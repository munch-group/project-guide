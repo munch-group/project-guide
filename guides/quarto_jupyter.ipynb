{
 "cells": [
  {
   "cell_type": "markdown",
   "metadata": {},
   "source": [
    "\n",
    "# Quarto reporting {#sec-quarto}\n",
    "\n",
    "\n",
    "You can install Quarto for a single user on Linux by using the Quarto tarball and following the below set of steps. First login to the cluster and download the tarball:\n",
    "\n",
    "```{.bash filename=\"Terminal\"}\n",
    "wget https://github.com/quarto-dev/quarto-cli/releases/download/v1.4.547/quarto-1.4.547-linux-amd64.tar.gz\n",
    "```\n",
    "\n",
    "Then extract the contents of the tarball to the location where you typically install software. Like:\n",
    "\n",
    "```{.bash filename=\"Terminal\"}\n",
    "mkdir ~/opt\n",
    "tar -C ~/opt -xvzf quarto-1.4.547-linux-amd64.tar.gz\n",
    "```\n",
    "\n",
    "Create a symlink to bin/quarto in a folder that is in your path. If there is no such folder, you can create a folder such as ~/bin and place the symlink there. For example:\n",
    "\n",
    "```{.bash filename=\"Terminal\"}\n",
    "mkdir ~/bin\n",
    "ln -s ~/opt/quarto-1.4.547/bin/quarto ~/bin/quarto\n",
    "```\n",
    "\n",
    "Either add Add folder with quarto to the list of folders where linux searches for executables:\n",
    "\n",
    "```{.bash filename=\"Terminal\"}\n",
    "( echo \"\"; echo 'export PATH=$PATH:~/bin\\n' ; echo \"\" ) >> ~/.profile\n",
    "source ~/.profile\n",
    "```\n",
    "\n",
    "Check The Installation\n",
    "\n",
    "Use quarto check to confirm that the installation is successful:\n",
    "\n",
    "```{.bash filename=\"Terminal\"}\n",
    "quarto check\n",
    "```\n",
    "\n",
    "## Render your content\n",
    "\n",
    "Go to the root of your repository (_where the `_quarto.yml` file is). Acitvate your conda environment and run this command to execute and render your content as html pages.\n",
    "\n",
    "```{.bash filename=\"Terminal\"}\n",
    "quarto render --execute\n",
    "```\n",
    "\n",
    "## One-time publish setup\n",
    "\n",
    "The way your repository is set up, GitHub will automatically render (but not execute) and publish your content every time you push changes. But you need to run the command below *once* to allow quarto to do some initial setup and configuration.\n",
    "\n",
    "```{.bash filename=\"Terminal\"}\n",
    "quarto publish gh-pages\n",
    "```"
   ]
  },
  {
   "cell_type": "markdown",
   "metadata": {},
   "source": [
    "## Quarto in JupyterLab\n",
    "\n",
    "\n",
    "https://quarto.org/docs/tools/jupyter-lab"
   ]
  }
 ],
 "metadata": {
  "language_info": {
   "name": "python"
  }
 },
 "nbformat": 4,
 "nbformat_minor": 2
}
